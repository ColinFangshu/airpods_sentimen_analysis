{
 "cells": [
  {
   "cell_type": "markdown",
   "metadata": {},
   "source": [
    "# Airpods tweets sentiment analysis\n",
    "----Done by Colin Shu (https://github.com/ColinFangshu) \n",
    "<br> 8/6/2019"
   ]
  },
  {
   "cell_type": "markdown",
   "metadata": {},
   "source": [
    "# Table of Contents\n",
    "\n",
    "1.  [Introduction](#intro)\n",
    "2.  [Import the raw tweets data](#GetData) \n",
    "<br>    2.1 [Clean the dataset](#import_and_drop_nan)\n",
    "<br>    2.2 [EDA](#EDA)\n"
   ]
  },
  {
   "cell_type": "markdown",
   "metadata": {},
   "source": [
    "<a id='intro'><a/>\n",
    "## 1. Introduction"
   ]
  },
  {
   "cell_type": "code",
   "execution_count": null,
   "metadata": {},
   "outputs": [],
   "source": []
  },
  {
   "cell_type": "markdown",
   "metadata": {},
   "source": [
    "<a id='GetData'><a/>\n",
    "## 2. Import the raw tweets data"
   ]
  },
  {
   "cell_type": "code",
   "execution_count": 5,
   "metadata": {},
   "outputs": [],
   "source": [
    "# import basic libraries\n",
    "import pandas as pd\n",
    "import numpy as np\n",
    "np.random.seed(0)\n",
    "\n",
    "# import libraries for visualization\n",
    "import matplotlib.pyplot as plt\n",
    "import seaborn as sns\n",
    "%matplotlib inline\n",
    "\n",
    "# import tweepy library for accessing the twitter api\n",
    "import tweepy\n",
    "\n",
    "# import textblob library for basic sentiment analysis\n",
    "import textblob"
   ]
  },
  {
   "cell_type": "code",
   "execution_count": 13,
   "metadata": {},
   "outputs": [],
   "source": [
    "# set the variables for accessing the twitter api\n",
    "consumer_key = 'VdWVhKc56463xizmmTAwc938u'\n",
    "consumer_secret = 'W04epRnkhkSNP45rvcfM0XTXsTn73ubTQQ07R6WGii15d6GmKw'\n",
    "\n",
    "access_token = '1138857680980676610-XFPnwxZ1DE6UPmnvXgOfSDxsBszZe3'\n",
    "access_token_secret = 'Tgw9LbT8MqxynO42FHIsUPwnZXXp9p0OMkdpCSv5ZoJEC'\n",
    "\n",
    "# get the authentication of the api\n",
    "auth = tweepy.OAuthHandler(consumer_key, consumer_secret)\n",
    "auth.set_access_token(access_token, access_token_secret)\n",
    "\n",
    "api = tweepy.API(auth)\n",
    "\n",
    "# search for tweets about airpods\n",
    "public_tweets = api.search('@airpods')"
   ]
  },
  {
   "cell_type": "code",
   "execution_count": 14,
   "metadata": {},
   "outputs": [
    {
     "name": "stdout",
     "output_type": "stream",
     "text": [
      "Merci d’exister @Airpods\n",
      "@tocard974 @zeyips @Airpods Écoute le. 💁‍♀️🎧🖤\n",
      "@zeyips @Airpods Les AirPods sont la meilleure chose qui existe. Laisse toi tenter zebi\n",
      "Fuck’em , my right AirPod has a damn red exclamation point and won’t connect.. @Apple  I need my money back or some… https://t.co/JIpdtIjHMV\n"
     ]
    }
   ],
   "source": [
    "for tweet in public_tweets:\n",
    "    print(tweet.text)"
   ]
  },
  {
   "cell_type": "code",
   "execution_count": 10,
   "metadata": {},
   "outputs": [
    {
     "data": {
      "text/plain": [
       "4"
      ]
     },
     "execution_count": 10,
     "metadata": {},
     "output_type": "execute_result"
    }
   ],
   "source": [
    "len(public_tweets)"
   ]
  },
  {
   "cell_type": "code",
   "execution_count": null,
   "metadata": {},
   "outputs": [],
   "source": []
  }
 ],
 "metadata": {
  "kernelspec": {
   "display_name": "Python 3",
   "language": "python",
   "name": "python3"
  },
  "language_info": {
   "codemirror_mode": {
    "name": "ipython",
    "version": 3
   },
   "file_extension": ".py",
   "mimetype": "text/x-python",
   "name": "python",
   "nbconvert_exporter": "python",
   "pygments_lexer": "ipython3",
   "version": "3.7.3"
  }
 },
 "nbformat": 4,
 "nbformat_minor": 2
}
